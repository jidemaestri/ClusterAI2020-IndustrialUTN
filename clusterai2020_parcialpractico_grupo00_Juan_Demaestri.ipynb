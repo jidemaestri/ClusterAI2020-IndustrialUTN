{
 "cells": [
  {
   "cell_type": "markdown",
   "metadata": {
    "id": "4h4orQ2ZcF7v"
   },
   "source": [
    "# UTN FRBA \n",
    "## Ciencia de Datos - Ingeniería Industrial\n",
    "### Examen Practico 14 noviembre 2020"
   ]
  },
  {
   "cell_type": "markdown",
   "metadata": {
    "id": "aZdKDnmhhDV5"
   },
   "source": [
    "### Nombre Apellido y Legajo"
   ]
  },
  {
   "cell_type": "code",
   "execution_count": 1,
   "metadata": {
    "id": "bzjlSw-ihCld"
   },
   "outputs": [],
   "source": [
    "### JUAN IGNACIO DEMAESTRI\n",
    "### juanignaciodemaestri@gmail.com\n",
    "### 144321-5"
   ]
  },
  {
   "cell_type": "markdown",
   "metadata": {
    "id": "kRVqPLTVcF70"
   },
   "source": [
    "### Importamos algunas librerias. Puede ser que falten algunas y tengas que importarlas vos mas adelante."
   ]
  },
  {
   "cell_type": "code",
   "execution_count": 2,
   "metadata": {
    "id": "3LbmtdG1cF71"
   },
   "outputs": [],
   "source": [
    "from sklearn.datasets import load_boston\n",
    "from sklearn.preprocessing import StandardScaler\n",
    "import numpy as np\n",
    "from sklearn.decomposition import PCA\n",
    "import matplotlib.pyplot as plt"
   ]
  },
  {
   "cell_type": "markdown",
   "metadata": {
    "id": "duZVtLfZcF76"
   },
   "source": [
    "### El dataset esta pre-cargado. Con solo correr esta celda se cargará la matriz de sample-features en la variable \"x\" y sus respectivas etiquetas/labels en la variable \"y\"."
   ]
  },
  {
   "cell_type": "code",
   "execution_count": 3,
   "metadata": {
    "id": "tI2oeJNWcF77"
   },
   "outputs": [],
   "source": [
    "boston = load_boston()\n",
    "boston.data.shape\n",
    "x = boston.data\n",
    "y = boston.target"
   ]
  },
  {
   "cell_type": "markdown",
   "metadata": {
    "id": "JyF73fm4cF7_"
   },
   "source": [
    "### Ejercicio 01:\n",
    "- Al dataset original de samples \"x\" transformarlo/pre-preprocesarlo con \"StandardScaler\" de manera tal que las features tengan media = 0 y desvio standard = 1. Al dataset transformado guardarlo en una variable llamada \"xscal\".\n",
    "- Con \"xscal\" realizar un PCA con 2 componentes sobre la matrix \"x\" y obtener una matriz \"xpca\". Es decir que \"xpca\" tendra las nuevas features (componentes principales) obtenidas por el PCA. \n",
    "- Con las dos componentes principales del PCA que se encuentran en la matriz \"xpca\" realizar un scatter plot para visualizar el dataset."
   ]
  },
  {
   "cell_type": "code",
   "execution_count": 38,
   "metadata": {},
   "outputs": [
    {
     "data": {
      "text/plain": [
       "(506, 13)"
      ]
     },
     "execution_count": 38,
     "metadata": {},
     "output_type": "execute_result"
    }
   ],
   "source": [
    "boston.data.shape"
   ]
  },
  {
   "cell_type": "code",
   "execution_count": 11,
   "metadata": {
    "id": "BexXSWDjcF8A"
   },
   "outputs": [],
   "source": [
    "from sklearn import preprocessing\n",
    "from sklearn.model_selection import train_test_split"
   ]
  },
  {
   "cell_type": "code",
   "execution_count": 12,
   "metadata": {},
   "outputs": [
    {
     "data": {
      "text/plain": [
       "StandardScaler()"
      ]
     },
     "execution_count": 12,
     "metadata": {},
     "output_type": "execute_result"
    }
   ],
   "source": [
    "scaler = preprocessing.StandardScaler().fit(x)\n",
    "scaler"
   ]
  },
  {
   "cell_type": "code",
   "execution_count": 13,
   "metadata": {},
   "outputs": [],
   "source": [
    "xscal = scaler.transform(x)"
   ]
  },
  {
   "cell_type": "code",
   "execution_count": 14,
   "metadata": {},
   "outputs": [
    {
     "data": {
      "text/plain": [
       "(506, 13)"
      ]
     },
     "execution_count": 14,
     "metadata": {},
     "output_type": "execute_result"
    }
   ],
   "source": [
    "xscal.shape"
   ]
  },
  {
   "cell_type": "code",
   "execution_count": 16,
   "metadata": {
    "id": "sPL5hCtvcF8E"
   },
   "outputs": [],
   "source": [
    "import pandas as pd\n",
    "n_comps = 2\n",
    "pca = PCA(n_components = n_comps)\n",
    "# fit_transform del PCA a nuestros datos\n",
    "xpca = pd.DataFrame(pca.fit_transform(xscal))\n",
    "# obtenemos los auto-valores\n",
    "eigenvalues = pca.explained_variance_ratio_\n"
   ]
  },
  {
   "cell_type": "code",
   "execution_count": 17,
   "metadata": {},
   "outputs": [
    {
     "data": {
      "text/plain": [
       "(506, 2)"
      ]
     },
     "execution_count": 17,
     "metadata": {},
     "output_type": "execute_result"
    }
   ],
   "source": [
    "xpca.shape"
   ]
  },
  {
   "cell_type": "code",
   "execution_count": 91,
   "metadata": {},
   "outputs": [
    {
     "data": {
      "text/html": [
       "<div>\n",
       "<style scoped>\n",
       "    .dataframe tbody tr th:only-of-type {\n",
       "        vertical-align: middle;\n",
       "    }\n",
       "\n",
       "    .dataframe tbody tr th {\n",
       "        vertical-align: top;\n",
       "    }\n",
       "\n",
       "    .dataframe thead th {\n",
       "        text-align: right;\n",
       "    }\n",
       "</style>\n",
       "<table border=\"1\" class=\"dataframe\">\n",
       "  <thead>\n",
       "    <tr style=\"text-align: right;\">\n",
       "      <th></th>\n",
       "      <th>0</th>\n",
       "      <th>1</th>\n",
       "    </tr>\n",
       "  </thead>\n",
       "  <tbody>\n",
       "    <tr>\n",
       "      <th>0</th>\n",
       "      <td>-2.098297</td>\n",
       "      <td>0.773112</td>\n",
       "    </tr>\n",
       "    <tr>\n",
       "      <th>1</th>\n",
       "      <td>-1.457252</td>\n",
       "      <td>0.591985</td>\n",
       "    </tr>\n",
       "    <tr>\n",
       "      <th>2</th>\n",
       "      <td>-2.074598</td>\n",
       "      <td>0.599639</td>\n",
       "    </tr>\n",
       "    <tr>\n",
       "      <th>3</th>\n",
       "      <td>-2.611504</td>\n",
       "      <td>-0.006871</td>\n",
       "    </tr>\n",
       "    <tr>\n",
       "      <th>4</th>\n",
       "      <td>-2.458185</td>\n",
       "      <td>0.097712</td>\n",
       "    </tr>\n",
       "    <tr>\n",
       "      <th>...</th>\n",
       "      <td>...</td>\n",
       "      <td>...</td>\n",
       "    </tr>\n",
       "    <tr>\n",
       "      <th>501</th>\n",
       "      <td>-0.314968</td>\n",
       "      <td>0.724284</td>\n",
       "    </tr>\n",
       "    <tr>\n",
       "      <th>502</th>\n",
       "      <td>-0.110513</td>\n",
       "      <td>0.759308</td>\n",
       "    </tr>\n",
       "    <tr>\n",
       "      <th>503</th>\n",
       "      <td>-0.312360</td>\n",
       "      <td>1.155246</td>\n",
       "    </tr>\n",
       "    <tr>\n",
       "      <th>504</th>\n",
       "      <td>-0.270519</td>\n",
       "      <td>1.041362</td>\n",
       "    </tr>\n",
       "    <tr>\n",
       "      <th>505</th>\n",
       "      <td>-0.125803</td>\n",
       "      <td>0.761978</td>\n",
       "    </tr>\n",
       "  </tbody>\n",
       "</table>\n",
       "<p>506 rows × 2 columns</p>\n",
       "</div>"
      ],
      "text/plain": [
       "            0         1\n",
       "0   -2.098297  0.773112\n",
       "1   -1.457252  0.591985\n",
       "2   -2.074598  0.599639\n",
       "3   -2.611504 -0.006871\n",
       "4   -2.458185  0.097712\n",
       "..        ...       ...\n",
       "501 -0.314968  0.724284\n",
       "502 -0.110513  0.759308\n",
       "503 -0.312360  1.155246\n",
       "504 -0.270519  1.041362\n",
       "505 -0.125803  0.761978\n",
       "\n",
       "[506 rows x 2 columns]"
      ]
     },
     "execution_count": 91,
     "metadata": {},
     "output_type": "execute_result"
    }
   ],
   "source": [
    "xpca"
   ]
  },
  {
   "cell_type": "code",
   "execution_count": 102,
   "metadata": {},
   "outputs": [
    {
     "data": {
      "image/png": "[encoded data removed]",
      "text/plain": [
       "<Figure size 576x432 with 1 Axes>"
      ]
     },
     "metadata": {
      "needs_background": "light"
     },
     "output_type": "display_data"
    }
   ],
   "source": [
    "import seaborn as sns\n",
    "\n",
    "sns.set_context(\"talk\", font_scale=0.6)\n",
    "plt.figure(figsize=(8,6))\n",
    "plt.scatter(xpca[0], y,color=\"orange\", label=\"xpca [0]\")\n",
    "plt.scatter(xpca[1], y,color=\"r\", label=\"xpca [1]\")\n",
    "plt.xlabel('Principal Component 1 , Explainded Variance = ' + str(np.round(eigenvalues[0],2)))\n",
    "plt.ylabel('Principal Component 2 , Explainded Variance = ' + str(np.round(eigenvalues[1],2)))\n",
    "plt.title('Principal Component Analysis before feature selection')\n",
    "plt.legend(loc='upper right')\n",
    "plt.show()"
   ]
  },
  {
   "cell_type": "markdown",
   "metadata": {
    "id": "HfW67A2ncF8H"
   },
   "source": [
    "Utilizando la matriz \"xscal\" dividir en train y test. Realizar una regresion lineal para predecir la variable continua \"y\". Para simplificar, durante el entrenamiento de la regresion no es necesario aplicar gridsearchCV ni cross validation, solamente \"fitear\" el modelo de regresion a los datos de train y predecir en test. Calcular el error cuadrático medio RMSE para los datos de test (seguramente tengas que importar algunas librerias)."
   ]
  },
  {
   "cell_type": "code",
   "execution_count": 21,
   "metadata": {
    "id": "lpJf7KogcF8I"
   },
   "outputs": [],
   "source": [
    "xtrain_scal, xtest_scal, ytrain, ytest = train_test_split(xscal, y, test_size=0.90, random_state=42)\n"
   ]
  },
  {
   "cell_type": "code",
   "execution_count": 23,
   "metadata": {},
   "outputs": [],
   "source": [
    "from sklearn.linear_model import LinearRegression\n",
    "from sklearn.metrics import r2_score, mean_squared_error, mean_absolute_error\n",
    "from sklearn.datasets import make_regression\n",
    "import math\n"
   ]
  },
  {
   "cell_type": "code",
   "execution_count": 24,
   "metadata": {},
   "outputs": [],
   "source": [
    "lr = LinearRegression()\n"
   ]
  },
  {
   "cell_type": "code",
   "execution_count": 25,
   "metadata": {},
   "outputs": [
    {
     "data": {
      "text/plain": [
       "LinearRegression()"
      ]
     },
     "execution_count": 25,
     "metadata": {},
     "output_type": "execute_result"
    }
   ],
   "source": [
    "lr.fit(xtrain_scal, ytrain)\n"
   ]
  },
  {
   "cell_type": "code",
   "execution_count": 26,
   "metadata": {},
   "outputs": [],
   "source": [
    "ypred = lr.predict(xtest_scal)"
   ]
  },
  {
   "cell_type": "code",
   "execution_count": 31,
   "metadata": {},
   "outputs": [
    {
     "data": {
      "text/plain": [
       "28.01412571526933"
      ]
     },
     "execution_count": 31,
     "metadata": {},
     "output_type": "execute_result"
    }
   ],
   "source": [
    "#MSE\n",
    "mse = mean_squared_error(ytest, ypred)\n",
    "mse"
   ]
  },
  {
   "cell_type": "code",
   "execution_count": 33,
   "metadata": {},
   "outputs": [
    {
     "data": {
      "text/plain": [
       "5.292837208461009"
      ]
     },
     "execution_count": 33,
     "metadata": {},
     "output_type": "execute_result"
    }
   ],
   "source": [
    "#RMSE\n",
    "rmse = math.sqrt(mse)\n",
    "rmse"
   ]
  },
  {
   "cell_type": "code",
   "execution_count": 34,
   "metadata": {},
   "outputs": [],
   "source": [
    "results = pd.DataFrame(columns=['Model','MSE','RMSE'])\n"
   ]
  },
  {
   "cell_type": "code",
   "execution_count": 36,
   "metadata": {},
   "outputs": [],
   "source": [
    "results_juan = results.append({'Model':'Linear Regression',\n",
    "                                'MSE':mse,\n",
    "                                'RMSE':rmse},ignore_index=True)"
   ]
  },
  {
   "cell_type": "code",
   "execution_count": 37,
   "metadata": {},
   "outputs": [
    {
     "data": {
      "text/html": [
       "<div>\n",
       "<style scoped>\n",
       "    .dataframe tbody tr th:only-of-type {\n",
       "        vertical-align: middle;\n",
       "    }\n",
       "\n",
       "    .dataframe tbody tr th {\n",
       "        vertical-align: top;\n",
       "    }\n",
       "\n",
       "    .dataframe thead th {\n",
       "        text-align: right;\n",
       "    }\n",
       "</style>\n",
       "<table border=\"1\" class=\"dataframe\">\n",
       "  <thead>\n",
       "    <tr style=\"text-align: right;\">\n",
       "      <th></th>\n",
       "      <th>Model</th>\n",
       "      <th>MSE</th>\n",
       "      <th>RMSE</th>\n",
       "    </tr>\n",
       "  </thead>\n",
       "  <tbody>\n",
       "    <tr>\n",
       "      <th>0</th>\n",
       "      <td>Linear Regression</td>\n",
       "      <td>28.014126</td>\n",
       "      <td>5.292837</td>\n",
       "    </tr>\n",
       "  </tbody>\n",
       "</table>\n",
       "</div>"
      ],
      "text/plain": [
       "               Model        MSE      RMSE\n",
       "0  Linear Regression  28.014126  5.292837"
      ]
     },
     "execution_count": 37,
     "metadata": {},
     "output_type": "execute_result"
    }
   ],
   "source": [
    "results_juan"
   ]
  },
  {
   "cell_type": "code",
   "execution_count": null,
   "metadata": {},
   "outputs": [],
   "source": []
  }
 ],
 "metadata": {
  "colab": {
   "collapsed_sections": [],
   "name": "clusterai_2020_parcial_practico.ipynb",
   "provenance": []
  },
  "kernelspec": {
   "display_name": "Python 3",
   "language": "python",
   "name": "python3"
  },
  "language_info": {
   "codemirror_mode": {
    "name": "ipython",
    "version": 3
   },
   "file_extension": ".py",
   "mimetype": "text/x-python",
   "name": "python",
   "nbconvert_exporter": "python",
   "pygments_lexer": "ipython3",
   "version": "3.7.6"
  }
 },
 "nbformat": 4,
 "nbformat_minor": 1
}
